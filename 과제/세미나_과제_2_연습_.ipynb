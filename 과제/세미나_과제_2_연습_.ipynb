{
  "nbformat": 4,
  "nbformat_minor": 0,
  "metadata": {
    "colab": {
      "provenance": [],
      "mount_file_id": "1QomAAcsbl_BnKDFLAmyedOzQmjOx7d5k",
      "authorship_tag": "ABX9TyP9XWDnd2XTDA6PTLxF34LB",
      "include_colab_link": true
    },
    "kernelspec": {
      "name": "python3",
      "display_name": "Python 3"
    },
    "language_info": {
      "name": "python"
    }
  },
  "cells": [
    {
      "cell_type": "markdown",
      "metadata": {
        "id": "view-in-github",
        "colab_type": "text"
      },
      "source": [
        "<a href=\"https://colab.research.google.com/github/chaeyeon8202/ComputerVesion/blob/main/%EA%B3%BC%EC%A0%9C/%EC%84%B8%EB%AF%B8%EB%82%98_%EA%B3%BC%EC%A0%9C_2_%EC%97%B0%EC%8A%B5_.ipynb\" target=\"_parent\"><img src=\"https://colab.research.google.com/assets/colab-badge.svg\" alt=\"Open In Colab\"/></a>"
      ]
    },
    {
      "cell_type": "code",
      "execution_count": 1,
      "metadata": {
        "colab": {
          "base_uri": "https://localhost:8080/",
          "height": 137
        },
        "id": "-EIkamXkTGRH",
        "outputId": "19af29cd-7fd0-402f-f962-437823f40f6b"
      },
      "outputs": [
        {
          "output_type": "error",
          "ename": "IndentationError",
          "evalue": "ignored",
          "traceback": [
            "\u001b[0;36m  File \u001b[0;32m\"<ipython-input-1-0a550595be12>\"\u001b[0;36m, line \u001b[0;32m26\u001b[0m\n\u001b[0;31m    dolphin_img_list = glob.glob('/content/drive/MyDrive/CV_seminar_project/original/dolphin/*')\u001b[0m\n\u001b[0m    ^\u001b[0m\n\u001b[0;31mIndentationError\u001b[0m\u001b[0;31m:\u001b[0m unexpected indent\n"
          ]
        }
      ],
      "source": [
        "\n",
        "import os\n",
        "import glob\n",
        "import cv2\n",
        "import time\n",
        "\n",
        "class Make_dataset_dir():\n",
        "  def __init__(self, root_dir):\n",
        "    self.root_path = root_dir+'/' if root_dir[-1] != '/' else root_dir # 현재 진행할 프로젝트\n",
        "    self.img_path_list = root_dir+'original' # 전달한 이미지들의 상위 경로\n",
        "    self.trainset_path = root_dir+'train/'\n",
        "    self.validset_path = root_dir+'valid/'\n",
        "    self.testset_path = root_dir+'test/'\n",
        "    self.class_list = ['dolphin', 'shark', 'whale']\n",
        "\n",
        "\n",
        "\n",
        "def mk_dir(self):\n",
        "  '''train,vaild,test 폴더를 만들고 내부에서는 클래스 별 폴더를 추가로 만들어 주세요'''\n",
        "  detaset_dir_list=[self.trainset_path,self.vaildset_path,self.testset_path]\n",
        "  for dataest_dir in dataest_dir_list:\n",
        "    for cls in self.calss_list:\n",
        "      os.makedirs(dataset_dir+cls, exist_ok=True)\n",
        "\n",
        "def monve_img(self):\n",
        "  '''mk_dir 에서 만든 폴더들에 각 클래스에 맞는 이미지를 배당해주세요.train.valid,test에 각각 7: 2: 1'''\n",
        "    dolphin_img_list = glob.glob('/content/drive/MyDrive/CV_seminar_project/original/dolphin/*')\n",
        "    shark_img_list = glob.glob('/content/drive/MyDrive/CV_seminar_project/original/shark/*')\n",
        "    whale_img_list = glob.glob('/content/drive/MyDrive/CV_seminar_project/original/whale/*')\n",
        "    \n",
        "  dic={'dolpin':dolpin_img_list, 'shark':shark_img_list, 'whale':whale_img_list}\n",
        "  for key in dic.keys(): #dic.keys: 만든 dic 의 key 들\n",
        "    length_list.append([int(len(dic[key])*0.7), int(len(dic[key]*0.2), int(len(dic))*0.1)])\n",
        "  for i,key in enumerate(dic.keys()):\n",
        "    sliting_length=length_list[i]\n",
        "    for ii, img_path in enumrate(dic[key]): #dic[key]:딕셔너리의 키들, 이미지 리스트들의 경로 \n",
        "      if ii+1\n"
      ]
    },
    {
      "cell_type": "code",
      "source": [],
      "metadata": {
        "id": "1Fd4FYeAjcUg"
      },
      "execution_count": null,
      "outputs": []
    },
    {
      "cell_type": "code",
      "source": [
        "import glob\n",
        "\n",
        "dolphin_img_list = glob.glob('/content/drive/MyDrive/CV_seminar_project/original/dolphin/*')\n",
        "shark_img_list = glob.glob('/content/drive/MyDrive/CV_seminar_project/original/shark/*')\n",
        "whale_img_list = glob.glob('/content/drive/MyDrive/CV_seminar_project/original/whale/*')\n",
        "dic = {'dolphin':dolphin_img_list, 'shark': shark_img_list, 'whale': whale_img_list} # 딕셔너리 생성\n",
        "length_list=[]\n",
        "for key in dic.keys():\n",
        "  length_list.append([int(len(dic[key])*0.7), int(len(dic[key])*0.2), int(len(dic[key])*0.1)]) # 클래스 별 분할 개수 리스트 생성"
      ],
      "metadata": {
        "id": "ZO-Pj67igTbR"
      },
      "execution_count": null,
      "outputs": []
    },
    {
      "cell_type": "code",
      "source": [
        "length_list"
      ],
      "metadata": {
        "id": "AH_UZDBhjfml",
        "outputId": "d1707ce0-2cc3-4f0a-c317-97dc8048e99a",
        "colab": {
          "base_uri": "https://localhost:8080/"
        }
      },
      "execution_count": null,
      "outputs": [
        {
          "output_type": "execute_result",
          "data": {
            "text/plain": [
              "[[0, 0, 0], [0, 0, 0], [0, 0, 0]]"
            ]
          },
          "metadata": {},
          "execution_count": 11
        }
      ]
    }
  ]
}